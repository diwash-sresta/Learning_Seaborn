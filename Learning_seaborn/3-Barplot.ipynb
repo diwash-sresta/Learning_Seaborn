{
 "cells": [
  {
   "cell_type": "code",
   "execution_count": 1,
   "id": "bde88d02",
   "metadata": {},
   "outputs": [
    {
     "data": {
      "text/plain": [
       "['anagrams',\n",
       " 'anscombe',\n",
       " 'attention',\n",
       " 'brain_networks',\n",
       " 'car_crashes',\n",
       " 'diamonds',\n",
       " 'dots',\n",
       " 'dowjones',\n",
       " 'exercise',\n",
       " 'flights',\n",
       " 'fmri',\n",
       " 'geyser',\n",
       " 'glue',\n",
       " 'healthexp',\n",
       " 'iris',\n",
       " 'mpg',\n",
       " 'penguins',\n",
       " 'planets',\n",
       " 'seaice',\n",
       " 'taxis',\n",
       " 'tips',\n",
       " 'titanic']"
      ]
     },
     "execution_count": 1,
     "metadata": {},
     "output_type": "execute_result"
    }
   ],
   "source": [
    "import matplotlib.pyplot as plt\n",
    "import seaborn as sns\n",
    "import pandas as pd\n",
    "\n",
    "sns.get_dataset_names()"
   ]
  },
  {
   "cell_type": "code",
   "execution_count": 6,
   "id": "7f77d9be",
   "metadata": {},
   "outputs": [
    {
     "data": {
      "application/vnd.microsoft.datawrangler.viewer.v0+json": {
       "columns": [
        {
         "name": "index",
         "rawType": "int64",
         "type": "integer"
        },
        {
         "name": "species",
         "rawType": "object",
         "type": "string"
        },
        {
         "name": "island",
         "rawType": "object",
         "type": "string"
        },
        {
         "name": "bill_length_mm",
         "rawType": "float64",
         "type": "float"
        },
        {
         "name": "bill_depth_mm",
         "rawType": "float64",
         "type": "float"
        },
        {
         "name": "flipper_length_mm",
         "rawType": "float64",
         "type": "float"
        },
        {
         "name": "body_mass_g",
         "rawType": "float64",
         "type": "float"
        },
        {
         "name": "sex",
         "rawType": "object",
         "type": "unknown"
        }
       ],
       "ref": "47d77773-169b-46d0-a78c-43185e41136c",
       "rows": [
        [
         "0",
         "Adelie",
         "Torgersen",
         "39.1",
         "18.7",
         "181.0",
         "3750.0",
         "Male"
        ],
        [
         "1",
         "Adelie",
         "Torgersen",
         "39.5",
         "17.4",
         "186.0",
         "3800.0",
         "Female"
        ],
        [
         "2",
         "Adelie",
         "Torgersen",
         "40.3",
         "18.0",
         "195.0",
         "3250.0",
         "Female"
        ],
        [
         "3",
         "Adelie",
         "Torgersen",
         null,
         null,
         null,
         null,
         null
        ],
        [
         "4",
         "Adelie",
         "Torgersen",
         "36.7",
         "19.3",
         "193.0",
         "3450.0",
         "Female"
        ],
        [
         "5",
         "Adelie",
         "Torgersen",
         "39.3",
         "20.6",
         "190.0",
         "3650.0",
         "Male"
        ],
        [
         "6",
         "Adelie",
         "Torgersen",
         "38.9",
         "17.8",
         "181.0",
         "3625.0",
         "Female"
        ],
        [
         "7",
         "Adelie",
         "Torgersen",
         "39.2",
         "19.6",
         "195.0",
         "4675.0",
         "Male"
        ],
        [
         "8",
         "Adelie",
         "Torgersen",
         "34.1",
         "18.1",
         "193.0",
         "3475.0",
         null
        ],
        [
         "9",
         "Adelie",
         "Torgersen",
         "42.0",
         "20.2",
         "190.0",
         "4250.0",
         null
        ],
        [
         "10",
         "Adelie",
         "Torgersen",
         "37.8",
         "17.1",
         "186.0",
         "3300.0",
         null
        ],
        [
         "11",
         "Adelie",
         "Torgersen",
         "37.8",
         "17.3",
         "180.0",
         "3700.0",
         null
        ],
        [
         "12",
         "Adelie",
         "Torgersen",
         "41.1",
         "17.6",
         "182.0",
         "3200.0",
         "Female"
        ],
        [
         "13",
         "Adelie",
         "Torgersen",
         "38.6",
         "21.2",
         "191.0",
         "3800.0",
         "Male"
        ],
        [
         "14",
         "Adelie",
         "Torgersen",
         "34.6",
         "21.1",
         "198.0",
         "4400.0",
         "Male"
        ],
        [
         "15",
         "Adelie",
         "Torgersen",
         "36.6",
         "17.8",
         "185.0",
         "3700.0",
         "Female"
        ],
        [
         "16",
         "Adelie",
         "Torgersen",
         "38.7",
         "19.0",
         "195.0",
         "3450.0",
         "Female"
        ],
        [
         "17",
         "Adelie",
         "Torgersen",
         "42.5",
         "20.7",
         "197.0",
         "4500.0",
         "Male"
        ],
        [
         "18",
         "Adelie",
         "Torgersen",
         "34.4",
         "18.4",
         "184.0",
         "3325.0",
         "Female"
        ],
        [
         "19",
         "Adelie",
         "Torgersen",
         "46.0",
         "21.5",
         "194.0",
         "4200.0",
         "Male"
        ],
        [
         "20",
         "Adelie",
         "Biscoe",
         "37.8",
         "18.3",
         "174.0",
         "3400.0",
         "Female"
        ],
        [
         "21",
         "Adelie",
         "Biscoe",
         "37.7",
         "18.7",
         "180.0",
         "3600.0",
         "Male"
        ],
        [
         "22",
         "Adelie",
         "Biscoe",
         "35.9",
         "19.2",
         "189.0",
         "3800.0",
         "Female"
        ],
        [
         "23",
         "Adelie",
         "Biscoe",
         "38.2",
         "18.1",
         "185.0",
         "3950.0",
         "Male"
        ],
        [
         "24",
         "Adelie",
         "Biscoe",
         "38.8",
         "17.2",
         "180.0",
         "3800.0",
         "Male"
        ],
        [
         "25",
         "Adelie",
         "Biscoe",
         "35.3",
         "18.9",
         "187.0",
         "3800.0",
         "Female"
        ],
        [
         "26",
         "Adelie",
         "Biscoe",
         "40.6",
         "18.6",
         "183.0",
         "3550.0",
         "Male"
        ],
        [
         "27",
         "Adelie",
         "Biscoe",
         "40.5",
         "17.9",
         "187.0",
         "3200.0",
         "Female"
        ],
        [
         "28",
         "Adelie",
         "Biscoe",
         "37.9",
         "18.6",
         "172.0",
         "3150.0",
         "Female"
        ],
        [
         "29",
         "Adelie",
         "Biscoe",
         "40.5",
         "18.9",
         "180.0",
         "3950.0",
         "Male"
        ],
        [
         "30",
         "Adelie",
         "Dream",
         "39.5",
         "16.7",
         "178.0",
         "3250.0",
         "Female"
        ],
        [
         "31",
         "Adelie",
         "Dream",
         "37.2",
         "18.1",
         "178.0",
         "3900.0",
         "Male"
        ],
        [
         "32",
         "Adelie",
         "Dream",
         "39.5",
         "17.8",
         "188.0",
         "3300.0",
         "Female"
        ],
        [
         "33",
         "Adelie",
         "Dream",
         "40.9",
         "18.9",
         "184.0",
         "3900.0",
         "Male"
        ],
        [
         "34",
         "Adelie",
         "Dream",
         "36.4",
         "17.0",
         "195.0",
         "3325.0",
         "Female"
        ],
        [
         "35",
         "Adelie",
         "Dream",
         "39.2",
         "21.1",
         "196.0",
         "4150.0",
         "Male"
        ],
        [
         "36",
         "Adelie",
         "Dream",
         "38.8",
         "20.0",
         "190.0",
         "3950.0",
         "Male"
        ],
        [
         "37",
         "Adelie",
         "Dream",
         "42.2",
         "18.5",
         "180.0",
         "3550.0",
         "Female"
        ],
        [
         "38",
         "Adelie",
         "Dream",
         "37.6",
         "19.3",
         "181.0",
         "3300.0",
         "Female"
        ],
        [
         "39",
         "Adelie",
         "Dream",
         "39.8",
         "19.1",
         "184.0",
         "4650.0",
         "Male"
        ],
        [
         "40",
         "Adelie",
         "Dream",
         "36.5",
         "18.0",
         "182.0",
         "3150.0",
         "Female"
        ],
        [
         "41",
         "Adelie",
         "Dream",
         "40.8",
         "18.4",
         "195.0",
         "3900.0",
         "Male"
        ],
        [
         "42",
         "Adelie",
         "Dream",
         "36.0",
         "18.5",
         "186.0",
         "3100.0",
         "Female"
        ],
        [
         "43",
         "Adelie",
         "Dream",
         "44.1",
         "19.7",
         "196.0",
         "4400.0",
         "Male"
        ],
        [
         "44",
         "Adelie",
         "Dream",
         "37.0",
         "16.9",
         "185.0",
         "3000.0",
         "Female"
        ],
        [
         "45",
         "Adelie",
         "Dream",
         "39.6",
         "18.8",
         "190.0",
         "4600.0",
         "Male"
        ],
        [
         "46",
         "Adelie",
         "Dream",
         "41.1",
         "19.0",
         "182.0",
         "3425.0",
         "Male"
        ],
        [
         "47",
         "Adelie",
         "Dream",
         "37.5",
         "18.9",
         "179.0",
         "2975.0",
         null
        ],
        [
         "48",
         "Adelie",
         "Dream",
         "36.0",
         "17.9",
         "190.0",
         "3450.0",
         "Female"
        ],
        [
         "49",
         "Adelie",
         "Dream",
         "42.3",
         "21.2",
         "191.0",
         "4150.0",
         "Male"
        ]
       ],
       "shape": {
        "columns": 7,
        "rows": 344
       }
      },
      "text/html": [
       "<div>\n",
       "<style scoped>\n",
       "    .dataframe tbody tr th:only-of-type {\n",
       "        vertical-align: middle;\n",
       "    }\n",
       "\n",
       "    .dataframe tbody tr th {\n",
       "        vertical-align: top;\n",
       "    }\n",
       "\n",
       "    .dataframe thead th {\n",
       "        text-align: right;\n",
       "    }\n",
       "</style>\n",
       "<table border=\"1\" class=\"dataframe\">\n",
       "  <thead>\n",
       "    <tr style=\"text-align: right;\">\n",
       "      <th></th>\n",
       "      <th>species</th>\n",
       "      <th>island</th>\n",
       "      <th>bill_length_mm</th>\n",
       "      <th>bill_depth_mm</th>\n",
       "      <th>flipper_length_mm</th>\n",
       "      <th>body_mass_g</th>\n",
       "      <th>sex</th>\n",
       "    </tr>\n",
       "  </thead>\n",
       "  <tbody>\n",
       "    <tr>\n",
       "      <th>0</th>\n",
       "      <td>Adelie</td>\n",
       "      <td>Torgersen</td>\n",
       "      <td>39.1</td>\n",
       "      <td>18.7</td>\n",
       "      <td>181.0</td>\n",
       "      <td>3750.0</td>\n",
       "      <td>Male</td>\n",
       "    </tr>\n",
       "    <tr>\n",
       "      <th>1</th>\n",
       "      <td>Adelie</td>\n",
       "      <td>Torgersen</td>\n",
       "      <td>39.5</td>\n",
       "      <td>17.4</td>\n",
       "      <td>186.0</td>\n",
       "      <td>3800.0</td>\n",
       "      <td>Female</td>\n",
       "    </tr>\n",
       "    <tr>\n",
       "      <th>2</th>\n",
       "      <td>Adelie</td>\n",
       "      <td>Torgersen</td>\n",
       "      <td>40.3</td>\n",
       "      <td>18.0</td>\n",
       "      <td>195.0</td>\n",
       "      <td>3250.0</td>\n",
       "      <td>Female</td>\n",
       "    </tr>\n",
       "    <tr>\n",
       "      <th>3</th>\n",
       "      <td>Adelie</td>\n",
       "      <td>Torgersen</td>\n",
       "      <td>NaN</td>\n",
       "      <td>NaN</td>\n",
       "      <td>NaN</td>\n",
       "      <td>NaN</td>\n",
       "      <td>NaN</td>\n",
       "    </tr>\n",
       "    <tr>\n",
       "      <th>4</th>\n",
       "      <td>Adelie</td>\n",
       "      <td>Torgersen</td>\n",
       "      <td>36.7</td>\n",
       "      <td>19.3</td>\n",
       "      <td>193.0</td>\n",
       "      <td>3450.0</td>\n",
       "      <td>Female</td>\n",
       "    </tr>\n",
       "    <tr>\n",
       "      <th>...</th>\n",
       "      <td>...</td>\n",
       "      <td>...</td>\n",
       "      <td>...</td>\n",
       "      <td>...</td>\n",
       "      <td>...</td>\n",
       "      <td>...</td>\n",
       "      <td>...</td>\n",
       "    </tr>\n",
       "    <tr>\n",
       "      <th>339</th>\n",
       "      <td>Gentoo</td>\n",
       "      <td>Biscoe</td>\n",
       "      <td>NaN</td>\n",
       "      <td>NaN</td>\n",
       "      <td>NaN</td>\n",
       "      <td>NaN</td>\n",
       "      <td>NaN</td>\n",
       "    </tr>\n",
       "    <tr>\n",
       "      <th>340</th>\n",
       "      <td>Gentoo</td>\n",
       "      <td>Biscoe</td>\n",
       "      <td>46.8</td>\n",
       "      <td>14.3</td>\n",
       "      <td>215.0</td>\n",
       "      <td>4850.0</td>\n",
       "      <td>Female</td>\n",
       "    </tr>\n",
       "    <tr>\n",
       "      <th>341</th>\n",
       "      <td>Gentoo</td>\n",
       "      <td>Biscoe</td>\n",
       "      <td>50.4</td>\n",
       "      <td>15.7</td>\n",
       "      <td>222.0</td>\n",
       "      <td>5750.0</td>\n",
       "      <td>Male</td>\n",
       "    </tr>\n",
       "    <tr>\n",
       "      <th>342</th>\n",
       "      <td>Gentoo</td>\n",
       "      <td>Biscoe</td>\n",
       "      <td>45.2</td>\n",
       "      <td>14.8</td>\n",
       "      <td>212.0</td>\n",
       "      <td>5200.0</td>\n",
       "      <td>Female</td>\n",
       "    </tr>\n",
       "    <tr>\n",
       "      <th>343</th>\n",
       "      <td>Gentoo</td>\n",
       "      <td>Biscoe</td>\n",
       "      <td>49.9</td>\n",
       "      <td>16.1</td>\n",
       "      <td>213.0</td>\n",
       "      <td>5400.0</td>\n",
       "      <td>Male</td>\n",
       "    </tr>\n",
       "  </tbody>\n",
       "</table>\n",
       "<p>344 rows × 7 columns</p>\n",
       "</div>"
      ],
      "text/plain": [
       "    species     island  bill_length_mm  bill_depth_mm  flipper_length_mm  \\\n",
       "0    Adelie  Torgersen            39.1           18.7              181.0   \n",
       "1    Adelie  Torgersen            39.5           17.4              186.0   \n",
       "2    Adelie  Torgersen            40.3           18.0              195.0   \n",
       "3    Adelie  Torgersen             NaN            NaN                NaN   \n",
       "4    Adelie  Torgersen            36.7           19.3              193.0   \n",
       "..      ...        ...             ...            ...                ...   \n",
       "339  Gentoo     Biscoe             NaN            NaN                NaN   \n",
       "340  Gentoo     Biscoe            46.8           14.3              215.0   \n",
       "341  Gentoo     Biscoe            50.4           15.7              222.0   \n",
       "342  Gentoo     Biscoe            45.2           14.8              212.0   \n",
       "343  Gentoo     Biscoe            49.9           16.1              213.0   \n",
       "\n",
       "     body_mass_g     sex  \n",
       "0         3750.0    Male  \n",
       "1         3800.0  Female  \n",
       "2         3250.0  Female  \n",
       "3            NaN     NaN  \n",
       "4         3450.0  Female  \n",
       "..           ...     ...  \n",
       "339          NaN     NaN  \n",
       "340       4850.0  Female  \n",
       "341       5750.0    Male  \n",
       "342       5200.0  Female  \n",
       "343       5400.0    Male  \n",
       "\n",
       "[344 rows x 7 columns]"
      ]
     },
     "execution_count": 6,
     "metadata": {},
     "output_type": "execute_result"
    }
   ],
   "source": [
    "df = sns.load_dataset('penguins')\n",
    "df"
   ]
  },
  {
   "cell_type": "code",
   "execution_count": 12,
   "id": "05cb8d8b",
   "metadata": {},
   "outputs": [
    {
     "data": {
      "image/png": "[encoded data removed]",
      "text/plain": [
       "<Figure size 640x480 with 1 Axes>"
      ]
     },
     "metadata": {},
     "output_type": "display_data"
    }
   ],
   "source": [
    "sns.barplot(x='island',y='bill_length_mm',data=df,hue='sex')\n",
    "plt.show()"
   ]
  },
  {
   "cell_type": "code",
   "execution_count": 13,
   "id": "b29aa26e",
   "metadata": {},
   "outputs": [
    {
     "data": {
      "image/png": "[encoded data removed]",
      "text/plain": [
       "<Figure size 640x480 with 1 Axes>"
      ]
     },
     "metadata": {},
     "output_type": "display_data"
    }
   ],
   "source": [
    "sns.barplot(x='island',y='bill_length_mm',data=df,hue='sex',hue_order=['Female','Male'])\n",
    "plt.show()"
   ]
  },
  {
   "cell_type": "code",
   "execution_count": 17,
   "id": "bb57ba94",
   "metadata": {},
   "outputs": [
    {
     "name": "stderr",
     "output_type": "stream",
     "text": [
      "C:\\Users\\Msi\\AppData\\Local\\Temp\\ipykernel_4332\\3286682872.py:1: FutureWarning: \n",
      "\n",
      "The `ci` parameter is deprecated. Use `errorbar=('ci', 100)` for the same effect.\n",
      "\n",
      "  sns.barplot(x='island',y='bill_length_mm',data=df,hue='sex', ci=100)\n"
     ]
    },
    {
     "data": {
      "image/png": "[encoded data removed]",
      "text/plain": [
       "<Figure size 640x480 with 1 Axes>"
      ]
     },
     "metadata": {},
     "output_type": "display_data"
    }
   ],
   "source": [
    "sns.barplot(x='island',y='bill_length_mm',data=df,hue='sex', ci=100)\n",
    "plt.show()"
   ]
  },
  {
   "cell_type": "code",
   "execution_count": 33,
   "id": "fc341ebd",
   "metadata": {},
   "outputs": [
    {
     "data": {
      "image/png": "[encoded data removed]",
      "text/plain": [
       "<Figure size 640x480 with 1 Axes>"
      ]
     },
     "metadata": {},
     "output_type": "display_data"
    }
   ],
   "source": [
    "sns.barplot(y='island',x='bill_length_mm',hue='sex',data=df,orient='h', palette='YlGnBu')\n",
    "plt.show()"
   ]
  },
  {
   "cell_type": "code",
   "execution_count": 46,
   "id": "e76c39c2",
   "metadata": {},
   "outputs": [
    {
     "name": "stderr",
     "output_type": "stream",
     "text": [
      "C:\\Users\\Msi\\AppData\\Local\\Temp\\ipykernel_4332\\597791867.py:1: FutureWarning: \n",
      "\n",
      "The `errcolor` parameter is deprecated. And will be removed in v0.15.0. Pass `err_kws={'color': 'red'}` instead.\n",
      "\n",
      "  sns.barplot(x='island',y='bill_length_mm',data=df,hue='sex',saturation=1,errcolor='red',errwidth=5)\n",
      "C:\\Users\\Msi\\AppData\\Local\\Temp\\ipykernel_4332\\597791867.py:1: FutureWarning: \n",
      "\n",
      "The `errwidth` parameter is deprecated. And will be removed in v0.15.0. Pass `err_kws={'linewidth': 5}` instead.\n",
      "\n",
      "  sns.barplot(x='island',y='bill_length_mm',data=df,hue='sex',saturation=1,errcolor='red',errwidth=5)\n"
     ]
    },
    {
     "data": {
      "image/png": "[encoded data removed]",
      "text/plain": [
       "<Figure size 640x480 with 1 Axes>"
      ]
     },
     "metadata": {},
     "output_type": "display_data"
    }
   ],
   "source": [
    "sns.barplot(x='island',y='bill_length_mm',data=df,hue='sex',saturation=1,errcolor='red',errwidth=5)\n",
    "plt.show()"
   ]
  },
  {
   "cell_type": "code",
   "execution_count": 47,
   "id": "eef11c60",
   "metadata": {},
   "outputs": [
    {
     "name": "stderr",
     "output_type": "stream",
     "text": [
      "C:\\Users\\Msi\\AppData\\Local\\Temp\\ipykernel_4332\\1808162328.py:1: FutureWarning: \n",
      "\n",
      "The `errcolor` parameter is deprecated. And will be removed in v0.15.0. Pass `err_kws={'color': 'red'}` instead.\n",
      "\n",
      "  sns.barplot(x='island',y='bill_length_mm',data=df,hue='sex',saturation=1,errcolor='red',capsize=0.5)\n"
     ]
    },
    {
     "data": {
      "image/png": "[encoded data removed]",
      "text/plain": [
       "<Figure size 640x480 with 1 Axes>"
      ]
     },
     "metadata": {},
     "output_type": "display_data"
    }
   ],
   "source": [
    "sns.barplot(x='island',y='bill_length_mm',data=df,hue='sex',saturation=1,errcolor='red',capsize=0.5)\n",
    "plt.show()"
   ]
  },
  {
   "cell_type": "code",
   "execution_count": 48,
   "id": "8724416c",
   "metadata": {},
   "outputs": [
    {
     "name": "stderr",
     "output_type": "stream",
     "text": [
      "C:\\Users\\Msi\\AppData\\Local\\Temp\\ipykernel_4332\\2576236798.py:1: FutureWarning: \n",
      "\n",
      "The `errcolor` parameter is deprecated. And will be removed in v0.15.0. Pass `err_kws={'color': 'red'}` instead.\n",
      "\n",
      "  sns.barplot(x='island',y='bill_length_mm',data=df,hue='sex',saturation=1,errcolor='red',dodge=False)\n"
     ]
    },
    {
     "data": {
      "image/png": "[encoded data removed]",
      "text/plain": [
       "<Figure size 640x480 with 1 Axes>"
      ]
     },
     "metadata": {},
     "output_type": "display_data"
    }
   ],
   "source": [
    "sns.barplot(x='island',y='bill_length_mm',data=df,hue='sex',saturation=1,errcolor='red',dodge=False)\n",
    "plt.show()"
   ]
  },
  {
   "cell_type": "code",
   "execution_count": 50,
   "id": "dde94677",
   "metadata": {},
   "outputs": [
    {
     "data": {
      "image/png": "[encoded data removed]",
      "text/plain": [
       "<Figure size 640x480 with 1 Axes>"
      ]
     },
     "metadata": {},
     "output_type": "display_data"
    }
   ],
   "source": [
    "sns.set(style='darkgrid')\n",
    "sns.barplot(x='island',y='bill_length_mm',data=df,hue='sex')\n",
    "plt.show()"
   ]
  },
  {
   "cell_type": "code",
   "execution_count": null,
   "id": "c3684225",
   "metadata": {},
   "outputs": [],
   "source": []
  }
 ],
 "metadata": {
  "kernelspec": {
   "display_name": "venv",
   "language": "python",
   "name": "python3"
  },
  "language_info": {
   "codemirror_mode": {
    "name": "ipython",
    "version": 3
   },
   "file_extension": ".py",
   "mimetype": "text/x-python",
   "name": "python",
   "nbconvert_exporter": "python",
   "pygments_lexer": "ipython3",
   "version": "3.13.1"
  }
 },
 "nbformat": 4,
 "nbformat_minor": 5
}
